{
 "cells": [
  {
   "cell_type": "markdown",
   "metadata": {},
   "source": [
    "# My Fistr  Project 1"
   ]
  },
  {
   "cell_type": "markdown",
   "metadata": {},
   "source": [
    "This notebook aims to present a simple analysis of the data.\n"
   ]
  },
  {
   "cell_type": "markdown",
   "metadata": {},
   "source": [
    "## Data Science Languages\n",
    "\n",
    "Here are some popular programming languages used in Data Science:\n",
    "\n",
    "- Python  \n",
    "- R  \n",
    "- SQL  \n",
    "- Julia  \n",
    "- Scala  \n",
    "- Java  \n",
    "- MATLAB"
   ]
  },
  {
   "cell_type": "markdown",
   "metadata": {
    "jp-MarkdownHeadingCollapsed": true
   },
   "source": [
    "## Data Science Libraries\n",
    "\n",
    "Here are some widely used libraries in Data Science:\n",
    "\n",
    "- **Pandas** – Data manipulation and analysis  \n",
    "- **NumPy** – Numerical computing  \n",
    "- **Matplotlib** – Data visualization  \n",
    "- **Seaborn** – Statistical data visualization  \n",
    "- **Scikit-learn** – Machine learning  \n",
    "- **TensorFlow** – Deep learning  \n",
    "- **Keras** – Neural networks (high-level API over TensorFlow)  \n",
    "- **Plotly** – Interactive visualizations  \n",
    "- **Statsmodels** – Statistical modeling  \n",
    "- **NLTK / spaCy** – Natural language processing\n"
   ]
  },
  {
   "cell_type": "markdown",
   "metadata": {},
   "source": [
    "## Data Science Tools\n",
    "\n",
    "| Tool            | Category              | Description                                 |\n",
    "|-----------------|-----------------------|---------------------------------------------|\n",
    "| Jupyter Notebook| IDE / Notebook        | Interactive coding and visualization        |\n",
    "| RStudio         | IDE                   | Development environment for R               |\n",
    "| Apache Spark    | Big Data Processing   | Distributed data processing framework       |\n",
    "| Tableau         | Data Visualization    | Interactive dashboards and visual analytics |\n",
    "| TensorFlow      | Deep Learning Library | Open-source platform for machine learning   |\n",
    "| KNIME           | Workflow Tool         | Data analytics and automation platform      |\n"
   ]
  },
  {
   "cell_type": "markdown",
   "metadata": {},
   "source": [
    "## Arithmetic Expression Examples\n",
    "\n",
    "In this section, we demonstrate basic arithmetic expressions in Python.\n",
    "\n",
    "Arithmetic expressions are used to perform mathematical operations such as:\n",
    "\n",
    "- Addition (`+`)\n",
    "- Subtraction (`-`)\n",
    "- Multiplication (`*`)\n",
    "- Division (`/`)\n",
    "- Exponentiation (`**`)\n",
    "- Modulo (`%`)\n",
    "\n",
    "Below are some examples to illustrate how these operations work in Python.\n"
   ]
  },
  {
   "cell_type": "code",
   "execution_count": 2,
   "metadata": {
    "tags": []
   },
   "outputs": [
    {
     "name": "stdout",
     "output_type": "stream",
     "text": [
      "Sum: 25\n"
     ]
    }
   ],
   "source": [
    "# Add two numbers\n",
    "sum_result = 10 + 15\n",
    "\n",
    "# Display the results\n",
    "\n",
    "print(\"Sum:\", sum_result)"
   ]
  },
  {
   "cell_type": "code",
   "execution_count": 3,
   "metadata": {
    "tags": []
   },
   "outputs": [
    {
     "name": "stdout",
     "output_type": "stream",
     "text": [
      "Product: 42\n"
     ]
    }
   ],
   "source": [
    "# Multiply two numbers\n",
    "product = 6 * 7\n",
    "# Display the results\n",
    "print(\"Product:\", product)"
   ]
  },
  {
   "cell_type": "markdown",
   "metadata": {},
   "source": [
    "## Convert minutes to hours"
   ]
  },
  {
   "cell_type": "code",
   "execution_count": null,
   "metadata": {},
   "outputs": [],
   "source": [
    "# Convert minutes to hours\n",
    "minutes = 150\n",
    "hours = minutes / 60\n",
    "\n",
    "# Display the result\n",
    "print(f\"{minutes} minutes is equal to {hours} hours\")\n"
   ]
  },
  {
   "cell_type": "markdown",
   "metadata": {},
   "source": [
    "## Objectives\n",
    "\n",
    "The objectives of this notebook are to:\n",
    "\n",
    "- Understand basic arithmetic operations in Python  \n",
    "- Learn how to use Markdown and code cells in Jupyter Notebooks  \n",
    "- Perform unit conversions (e.g., minutes to hours)  \n",
    "- Explore common tools and libraries used in Data Science  \n",
    "- Practice creating tables and formatted text with Markdown\n"
   ]
  },
  {
   "cell_type": "markdown",
   "metadata": {},
   "source": [
    "## Author\n",
    "\n",
    "**Name:** Wilson Martins\n"
   ]
  },
  {
   "cell_type": "code",
   "execution_count": null,
   "metadata": {},
   "outputs": [],
   "source": []
  }
 ],
 "metadata": {
  "kernelspec": {
   "display_name": "Python 3 (ipykernel)",
   "language": "python",
   "name": "python3"
  },
  "language_info": {
   "codemirror_mode": {
    "name": "ipython",
    "version": 3
   },
   "file_extension": ".py",
   "mimetype": "text/x-python",
   "name": "python",
   "nbconvert_exporter": "python",
   "pygments_lexer": "ipython3",
   "version": "3.11.5"
  }
 },
 "nbformat": 4,
 "nbformat_minor": 4
}
