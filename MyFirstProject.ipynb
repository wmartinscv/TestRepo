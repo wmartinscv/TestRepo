{
  "metadata": {
    "kernelspec": {
      "name": "python",
      "display_name": "Python (Pyodide)",
      "language": "python"
    },
    "language_info": {
      "name": ""
    }
  },
  "nbformat_minor": 4,
  "nbformat": 4,
  "cells": [
    {
      "cell_type": "markdown",
      "source": "# My Fistr  Project",
      "metadata": {}
    },
    {
      "cell_type": "markdown",
      "source": "## Introduction\n\nThis notebook explores data analysis and visualization using Python.  \nWe will load a dataset, perform data cleaning, and use charts to understand patterns in the data.  \nThe goal is to gain insights and build a basic predictive model.",
      "metadata": {}
    },
    {
      "cell_type": "markdown",
      "source": "## Data Science Languages\n\nHere are some popular programming languages used in Data Science:\n\n- Python  \n- R  \n- SQL  \n- Julia  \n- Scala  \n- Java  \n- MATLAB",
      "metadata": {}
    },
    {
      "cell_type": "markdown",
      "source": "## Data Science Libraries\n\nHere are some widely used libraries in Data Science:\n\n- **Pandas** – Data manipulation and analysis  \n- **NumPy** – Numerical computing  \n- **Matplotlib** – Data visualization  \n- **Seaborn** – Statistical data visualization  \n- **Scikit-learn** – Machine learning  \n- **TensorFlow** – Deep learning  \n- **Keras** – Neural networks (high-level API over TensorFlow)  \n- **Plotly** – Interactive visualizations  \n- **Statsmodels** – Statistical modeling  \n- **NLTK / spaCy** – Natural language processing\n",
      "metadata": {
        "jp-MarkdownHeadingCollapsed": true
      }
    },
    {
      "cell_type": "markdown",
      "source": "## Data Science Tools\n\n| Tool            | Category              | Description                                 |\n|-----------------|-----------------------|---------------------------------------------|\n| Jupyter Notebook| IDE / Notebook        | Interactive coding and visualization        |\n| RStudio         | IDE                   | Development environment for R               |\n| Apache Spark    | Big Data Processing   | Distributed data processing framework       |\n| Tableau         | Data Visualization    | Interactive dashboards and visual analytics |\n| TensorFlow      | Deep Learning Library | Open-source platform for machine learning   |\n| KNIME           | Workflow Tool         | Data analytics and automation platform      |\n",
      "metadata": {}
    },
    {
      "cell_type": "markdown",
      "source": "## Arithmetic Expression Examples\n\nIn this section, we demonstrate basic arithmetic expressions in Python.\n\nArithmetic expressions are used to perform mathematical operations such as:\n\n- Addition (`+`)\n- Subtraction (`-`)\n- Multiplication (`*`)\n- Division (`/`)\n- Exponentiation (`**`)\n- Modulo (`%`)\n\nBelow are some examples to illustrate how these operations work in Python.\n",
      "metadata": {}
    },
    {
      "cell_type": "markdown",
      "source": "## Multiply two numbers",
      "metadata": {}
    },
    {
      "cell_type": "code",
      "source": "# Multiply two numbers\nproduct = 6 * 7\n\n# Add two numbers\nsum_result = 10 + 15\n\n# Display the results\nprint(\"Product:\", product)\nprint(\"Sum:\", sum_result)",
      "metadata": {
        "trusted": true
      },
      "outputs": [],
      "execution_count": null
    },
    {
      "cell_type": "markdown",
      "source": "## Convert minutes to hours",
      "metadata": {}
    },
    {
      "cell_type": "code",
      "source": "# Convert minutes to hours\nminutes = 150\nhours = minutes / 60\n\n# Display the result\nprint(f\"{minutes} minutes is equal to {hours} hours\")\n",
      "metadata": {
        "trusted": true
      },
      "outputs": [],
      "execution_count": null
    },
    {
      "cell_type": "markdown",
      "source": "## Objectives\n\nThe objectives of this notebook are to:\n\n- Understand basic arithmetic operations in Python  \n- Learn how to use Markdown and code cells in Jupyter Notebooks  \n- Perform unit conversions (e.g., minutes to hours)  \n- Explore common tools and libraries used in Data Science  \n- Practice creating tables and formatted text with Markdown\n",
      "metadata": {}
    },
    {
      "cell_type": "markdown",
      "source": "## Author\n\n**Name:** Wilson Martins\n",
      "metadata": {}
    },
    {
      "cell_type": "code",
      "source": "",
      "metadata": {
        "trusted": true
      },
      "outputs": [],
      "execution_count": null
    }
  ]
}